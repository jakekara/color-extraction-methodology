{
 "cells": [
  {
   "cell_type": "markdown",
   "metadata": {},
   "source": [
    "# notebook_render_palette\n",
    "\n",
    "Render a palette in a notebook. Note: This can only run inside a notebook context because it require IPython."
   ]
  },
  {
   "cell_type": "code",
   "execution_count": 1,
   "metadata": {},
   "outputs": [],
   "source": [
    "try:\n",
    "    from IPython.core.display import display, HTML\n",
    "except:\n",
    "    raise Exception(\"This module can only be used in a notebook\")\n",
    "\n",
    "    \n",
    "def notebook_render_palette(p, proportional=True, height=100):\n",
    "    display(HTML(p.html(proportional=proportional, height=height)))\n"
   ]
  }
 ],
 "metadata": {
  "kernelspec": {
   "display_name": "Python 3",
   "language": "python",
   "name": "python3"
  },
  "language_info": {
   "codemirror_mode": {
    "name": "ipython",
    "version": 3
   },
   "file_extension": ".py",
   "mimetype": "text/x-python",
   "name": "python",
   "nbconvert_exporter": "python",
   "pygments_lexer": "ipython3",
   "version": "3.7.9"
  }
 },
 "nbformat": 4,
 "nbformat_minor": 4
}
