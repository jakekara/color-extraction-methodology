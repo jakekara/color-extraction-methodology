{
 "cells": [
  {
   "cell_type": "code",
   "execution_count": 5,
   "metadata": {},
   "outputs": [],
   "source": [
    "import cv2\n",
    "import numpy as np"
   ]
  },
  {
   "cell_type": "code",
   "execution_count": 6,
   "metadata": {},
   "outputs": [],
   "source": [
    "def img_arr(arr_like):\n",
    "    return np.uint8(np.array(arr_like))\n"
   ]
  },
  {
   "cell_type": "code",
   "execution_count": 7,
   "metadata": {},
   "outputs": [],
   "source": [
    "def convert_pixel(pixel, conversion):\n",
    "    return img_arr(cv2.cvtColor(np.uint8(np.array([[pixel]])), conversion)[0][0])"
   ]
  },
  {
   "cell_type": "code",
   "execution_count": 8,
   "metadata": {},
   "outputs": [],
   "source": [
    "def flattish(img):\n",
    "    return img.reshape(img.shape[0] * img.shape[1], img.shape[2])\n"
   ]
  },
  {
   "cell_type": "code",
   "execution_count": 9,
   "metadata": {},
   "outputs": [],
   "source": [
    "def is_visible(rgba):\n",
    "    if len(rgba) < 4:\n",
    "        return True\n",
    "    return rgba[3] > 0"
   ]
  },
  {
   "cell_type": "code",
   "execution_count": null,
   "metadata": {},
   "outputs": [],
   "source": []
  },
  {
   "cell_type": "code",
   "execution_count": 10,
   "metadata": {},
   "outputs": [],
   "source": [
    "def int2hex(i):\n",
    "    return \"%02x\"%int(str(i), 10)\n",
    "\n",
    "def rgb2hex(r, g, b):\n",
    "    return f\"0x{int2hex(r)}{int2hex(g)}{int2hex(b)}\""
   ]
  },
  {
   "cell_type": "code",
   "execution_count": 11,
   "metadata": {},
   "outputs": [],
   "source": [
    "def hex2int(hex_str):\n",
    "    return int(hex_str, 16)\n",
    "\n",
    "def hex2rgb(hex_str):\n",
    "    if len(hex_str) == 8:\n",
    "        offset = 2\n",
    "    elif len(hex_str) == 6:\n",
    "        offset = 0\n",
    "    else:\n",
    "        raise Exception(\"Invalid format. Expects 6 or 8 character represntation (with or without 0x preface)\")\n",
    "    r = hex_str[offset:offset+2]\n",
    "    g = hex_str[offset+2:offset+4]\n",
    "    b = hex_str[offset+4:offset+6]\n",
    "\n",
    "    return (hex2int(r), hex2int(g), hex2int(b))\n"
   ]
  },
  {
   "cell_type": "code",
   "execution_count": 12,
   "metadata": {},
   "outputs": [],
   "source": [
    "def rgb2str(r, g, b):\n",
    "    return f\"rgb({r},{g},{b})\""
   ]
  }
 ],
 "metadata": {
  "kernelspec": {
   "display_name": "Python 3",
   "language": "python",
   "name": "python3"
  },
  "language_info": {
   "codemirror_mode": {
    "name": "ipython",
    "version": 3
   },
   "file_extension": ".py",
   "mimetype": "text/x-python",
   "name": "python",
   "nbconvert_exporter": "python",
   "pygments_lexer": "ipython3",
   "version": "3.7.9"
  }
 },
 "nbformat": 4,
 "nbformat_minor": 4
}
