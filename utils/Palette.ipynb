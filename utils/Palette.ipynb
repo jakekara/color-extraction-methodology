{
 "cells": [
  {
   "cell_type": "markdown",
   "metadata": {},
   "source": [
    "# Palette\n",
    "\n",
    "A collection of colors and the count of each color in an image. "
   ]
  },
  {
   "cell_type": "code",
   "execution_count": 5,
   "metadata": {},
   "outputs": [],
   "source": [
    "# This is a trick to import from parent directories in Jupyter Notebooks\n",
    "import os\n",
    "import sys\n",
    "from math import floor\n",
    "module_path = os.path.abspath(os.path.join('..'))\n",
    "if module_path not in sys.path:\n",
    "    sys.path.append(module_path)\n",
    "\n",
    "import margo_loader\n",
    "from utils.Formatting import flattish, hex2rgb, rgb2hex, rgb2str"
   ]
  },
  {
   "cell_type": "code",
   "execution_count": 146,
   "metadata": {},
   "outputs": [],
   "source": [
    "class Palette:\n",
    "    \n",
    "    def __init__(self):\n",
    "        self.colors = {}\n",
    "        \n",
    "    def is_empty(self):\n",
    "        return len(self.colors.keys()) < 1\n",
    "    \n",
    "    @staticmethod\n",
    "    def test_color(r, g, b, a):\n",
    "        def is_component(x):\n",
    "            try:\n",
    "                x = int(x)\n",
    "                assert x >= 0\n",
    "                assert x < 256\n",
    "            except:\n",
    "                raise Exception(f\"Invalid rgba component value: {x} of type {type(x)}\")\n",
    "        \n",
    "        for c in [r, g, b, a]:\n",
    "            is_component(c)\n",
    "\n",
    "    def set_color_count(self, r, g, b, a, count):\n",
    "        Palette.test_color(r, g, b, a)\n",
    "        if (a < 1):\n",
    "            return\n",
    "        idx = rgb2str(r, g, b)\n",
    "        self.colors[idx] = count\n",
    "    \n",
    "    def add_color(self, r, g, b, a):\n",
    "        Palette.test_color(r, g, b, a)\n",
    "            \n",
    "        if (a < 1):\n",
    "            return\n",
    "        idx = rgb2str(r, g, b)\n",
    "        if idx not in self.colors:\n",
    "            self.colors[idx] = 0\n",
    "        self.colors[idx] += 1\n",
    "        \n",
    "    def to_dict(self):\n",
    "        return self.colors\n",
    "    \n",
    "    def html(self, proportional=False, height=100):\n",
    "        ret = f\"<div style='display: flex; width:100%;'>\"\n",
    "        color_count = len(self.colors.keys())\n",
    "        total_pixels = 0\n",
    "        for color in self.colors:\n",
    "            total_pixels += self.colors[color]\n",
    "            \n",
    "        for color in self.colors:\n",
    "            \n",
    "            # By default, use equal width\n",
    "            percent = 100 / color_count \n",
    "            \n",
    "            if proportional:\n",
    "                percent = self.colors[color] * 100 / total_pixels\n",
    "\n",
    "            style=f\"background-color:{color}; width:{percent}%; height:{height}px; \"\n",
    "\n",
    "            ret += f\"<div style='{style}'></div>\"\n",
    "            \n",
    "        ret += \"</div>\"\n",
    "        \n",
    "        return ret\n",
    "        \n",
    "            "
   ]
  },
  {
   "cell_type": "code",
   "execution_count": 147,
   "metadata": {},
   "outputs": [
    {
     "data": {
      "text/plain": [
       "{'rgb(0,0,0)': 4}"
      ]
     },
     "execution_count": 147,
     "metadata": {},
     "output_type": "execute_result"
    }
   ],
   "source": [
    "# :: ignore-cell ::\n",
    "\n",
    "p = Palette()\n",
    "p.add_color(0,0,0,1)\n",
    "p.add_color(0,0,0,1)\n",
    "p.add_color(0,0,0,1)\n",
    "p.add_color(0,0,0,1)\n",
    "\n",
    "assert p.to_dict()[\"rgb(0,0,0)\"] == 4\n",
    "\n",
    "p.to_dict()"
   ]
  },
  {
   "cell_type": "code",
   "execution_count": 148,
   "metadata": {},
   "outputs": [
    {
     "data": {
      "text/plain": [
       "{'rgb(0,0,0)': 150}"
      ]
     },
     "execution_count": 148,
     "metadata": {},
     "output_type": "execute_result"
    }
   ],
   "source": [
    "# :: ignore-cell :: \n",
    "p.set_color_count(0,0,0,255,150)\n",
    "\n",
    "assert p.to_dict()[\"rgb(0,0,0)\"] == 150\n",
    "\n",
    "p.to_dict()"
   ]
  },
  {
   "cell_type": "code",
   "execution_count": 149,
   "metadata": {},
   "outputs": [
    {
     "data": {
      "text/html": [
       "<div style='display: flex; width:100%;'><div style='background-color:rgb(0,0,0); width:10.0%; height:100px; '></div><div style='background-color:rgb(0,0,255); width:20.0%; height:100px; '></div><div style='background-color:rgb(0,255,0); width:30.0%; height:100px; '></div><div style='background-color:rgb(255,0,0); width:40.0%; height:100px; '></div></div>"
      ],
      "text/plain": [
       "<IPython.core.display.HTML object>"
      ]
     },
     "execution_count": 149,
     "metadata": {},
     "output_type": "execute_result"
    }
   ],
   "source": [
    "# :: ignore-cell ::\n",
    "\n",
    "p = Palette()\n",
    "p.set_color_count(0  ,0  ,0  ,  1, 100) # Black\n",
    "p.set_color_count(0  ,0  ,255,  1,200) # Blue\n",
    "p.set_color_count(0  ,255,  0,  1,300) # Green \n",
    "p.set_color_count(255,0  ,  0,  1,400) # Red\n",
    "from IPython.core.display import HTML\n",
    "HTML(p.html(proportional=True))"
   ]
  },
  {
   "cell_type": "code",
   "execution_count": 151,
   "metadata": {},
   "outputs": [
    {
     "data": {
      "text/html": [
       "<div style='display: flex; width:100%;'><div style='background-color:rgb(0,0,0); width:25.0%; height:100px; '></div><div style='background-color:rgb(0,0,255); width:25.0%; height:100px; '></div><div style='background-color:rgb(0,255,0); width:25.0%; height:100px; '></div><div style='background-color:rgb(255,0,0); width:25.0%; height:100px; '></div></div>"
      ],
      "text/plain": [
       "<IPython.core.display.HTML object>"
      ]
     },
     "execution_count": 151,
     "metadata": {},
     "output_type": "execute_result"
    }
   ],
   "source": [
    "# :: ignore-cell ::\n",
    "HTML(p.html(proportional=False))"
   ]
  }
 ],
 "metadata": {
  "kernelspec": {
   "display_name": "Python 3",
   "language": "python",
   "name": "python3"
  },
  "language_info": {
   "codemirror_mode": {
    "name": "ipython",
    "version": 3
   },
   "file_extension": ".py",
   "mimetype": "text/x-python",
   "name": "python",
   "nbconvert_exporter": "python",
   "pygments_lexer": "ipython3",
   "version": "3.7.9"
  }
 },
 "nbformat": 4,
 "nbformat_minor": 4
}
