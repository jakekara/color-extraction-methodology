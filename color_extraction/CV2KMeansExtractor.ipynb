{
 "cells": [
  {
   "cell_type": "markdown",
   "metadata": {},
   "source": [
    "# CV2KMeansExtractor\n",
    "\n",
    "Extractor based on CV2 library's KMeans clustering algorithm."
   ]
  },
  {
   "cell_type": "markdown",
   "metadata": {},
   "source": [
    "## Import dependencies"
   ]
  },
  {
   "cell_type": "code",
   "execution_count": 1,
   "metadata": {},
   "outputs": [],
   "source": [
    "# This is a trick to import from parent directories in Jupyter Notebooks\n",
    "import os\n",
    "import sys\n",
    "module_path = os.path.abspath(os.path.join('..'))\n",
    "if module_path not in sys.path:\n",
    "    sys.path.append(module_path)\n",
    "\n",
    "import cv2\n",
    "import numpy as np\n",
    "from PIL import Image\n",
    "\n",
    "import margo_loader\n",
    "from ExtractorBaseClass import ExtractorBaseClass\n",
    "from utils.NotebookRenderPalette import notebook_render_palette\n",
    "from utils.Formatting import img_arr\n",
    "from utils.ImageFiles import read_img"
   ]
  },
  {
   "cell_type": "code",
   "execution_count": 2,
   "metadata": {},
   "outputs": [],
   "source": [
    "class CV2KMeansExtractor(ExtractorBaseClass):\n",
    "    \n",
    "    def __init__(self, img, color_count=20):\n",
    "        \n",
    "        super().__init__(img)\n",
    "        self.color_count=color_count\n",
    "\n",
    "    def quantize(self):\n",
    "\n",
    "        # based on demo here: https://docs.opencv.org/3.0-beta/doc/py_tutorials/py_ml/py_kmeans/py_kmeans_opencv/py_kmeans_opencv.html#color-quantizationd\n",
    "\n",
    "        img = self.img\n",
    "        Z = np.float32(img.reshape((-1,self.img.shape[2])))\n",
    "        # remove alpha pixels\n",
    "\n",
    "        def visible(rgba):\n",
    "            r,g,b,a=rgba\n",
    "            return a > 0\n",
    "\n",
    "        # convert to np.float32\n",
    "        Z = np.float32(Z)\n",
    "\n",
    "        # define criteria, number of clusters(K) and apply kmeans()\n",
    "        criteria = (cv2.TERM_CRITERIA_EPS + cv2.TERM_CRITERIA_MAX_ITER, 10, 1.0)\n",
    "        K = self.color_count\n",
    "        ret,label,center = cv2.kmeans(Z,K,None,criteria,10,cv2.KMEANS_RANDOM_CENTERS)\n",
    "\n",
    "        # Now convert back into uint8, and make original image with\n",
    "        # only the colors identified as the palette\n",
    "        center = np.uint8(center)\n",
    "        res = center[label.flatten()]\n",
    "        return res.reshape((img.shape))\n",
    "\n",
    "        "
   ]
  },
  {
   "cell_type": "markdown",
   "metadata": {},
   "source": [
    "# Demo"
   ]
  },
  {
   "cell_type": "code",
   "execution_count": 3,
   "metadata": {
    "scrolled": true
   },
   "outputs": [
    {
     "ename": "SyntaxError",
     "evalue": "invalid syntax (<ipython-input-3-8d6d6245ccff>, line 5)",
     "output_type": "error",
     "traceback": [
      "\u001b[0;36m  File \u001b[0;32m\"<ipython-input-3-8d6d6245ccff>\"\u001b[0;36m, line \u001b[0;32m5\u001b[0m\n\u001b[0;31m    extracted = CV2KMeansExtractor(, color_count=20)\u001b[0m\n\u001b[0m                                   ^\u001b[0m\n\u001b[0;31mSyntaxError\u001b[0m\u001b[0;31m:\u001b[0m invalid syntax\n"
     ]
    }
   ],
   "source": [
    "# :: ignore-cell ::\n",
    "\n",
    "image = read_img(\"../images/sample.jpg\", scale=0.125)\n",
    "\n",
    "extracted = CV2KMeansExtractor(image , color_count=20)\n",
    "\n",
    "Image.fromarray(extracted.get_color_map())"
   ]
  },
  {
   "cell_type": "code",
   "execution_count": null,
   "metadata": {},
   "outputs": [],
   "source": [
    "# :: ignore-cell ::\n",
    "\n",
    "\"\"\" The original image \"\"\"\n",
    "\n",
    "Image.fromarray(image)"
   ]
  },
  {
   "cell_type": "code",
   "execution_count": null,
   "metadata": {},
   "outputs": [],
   "source": [
    "# :: ignore-cell ::\n",
    "\n",
    "# Preview the palette\n",
    "\n",
    "notebook_render_palette(extracted.get_palette())"
   ]
  },
  {
   "cell_type": "code",
   "execution_count": null,
   "metadata": {},
   "outputs": [],
   "source": [
    "# :: ignore-cell ::\n",
    "extracted.get_palette().to_dict()"
   ]
  }
 ],
 "metadata": {
  "kernelspec": {
   "display_name": "Python 3",
   "language": "python",
   "name": "python3"
  },
  "language_info": {
   "codemirror_mode": {
    "name": "ipython",
    "version": 3
   },
   "file_extension": ".py",
   "mimetype": "text/x-python",
   "name": "python",
   "nbconvert_exporter": "python",
   "pygments_lexer": "ipython3",
   "version": "3.7.9"
  }
 },
 "nbformat": 4,
 "nbformat_minor": 4
}
