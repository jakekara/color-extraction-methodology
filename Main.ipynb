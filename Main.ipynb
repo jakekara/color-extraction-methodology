{
 "cells": [
  {
   "cell_type": "markdown",
   "metadata": {},
   "source": [
    "# ColorBook -- main production pipeline notebook\n",
    "\n",
    "Download a bunch of images, delete their \"background\" pixels, and generate summary palettes that represent the images.\n",
    "\n",
    "## On modular notebooks\n",
    "\n",
    "This notebook demonstrates the use of [margo-loader](https://github.com/margo-notebooks/margo-loader-py) to use Notebooks as source code modules. As a result, we can organize the code into small, manageable notebooks that each do one thing, and then coordinate them into this notebook. \n",
    "\n",
    "The goal is to allow you to better understand each individual part of the notebook as well as how the parts work together as one system.\n",
    "\n",
    "An added benefit is that while we only use one color extraction algorithm in the final data pipeline, we wrote code implementations of several color extraction algorithms. Each algorithm has its own notebook with sample outputs, so you can see how well each algorithm works and choose the one that works best for your images."
   ]
  },
  {
   "cell_type": "markdown",
   "metadata": {},
   "source": [
    "## Import dependencies"
   ]
  },
  {
   "cell_type": "code",
   "execution_count": 1,
   "metadata": {},
   "outputs": [],
   "source": [
    "# This is a trick to import from parent directories in Jupyter Notebooks\n",
    "import os\n",
    "import sys\n",
    "from math import floor\n",
    "module_path = os.path.abspath(os.path.join('..'))\n",
    "if module_path not in sys.path:\n",
    "    sys.path.append(module_path)\n",
    "    \n",
    "import margo_loader\n",
    "import os\n",
    "import sys\n",
    "from glob import glob\n",
    "\n",
    "from data_acquisition.DownloadMetFiles import fetch_works\n",
    "from data_processing.ProcessAnImage import process_image"
   ]
  },
  {
   "cell_type": "markdown",
   "metadata": {},
   "source": [
    "## Set some config stuff"
   ]
  },
  {
   "cell_type": "code",
   "execution_count": 2,
   "metadata": {},
   "outputs": [],
   "source": [
    "IMAGE_DIR = \"./images/innocence\"\n",
    "OUT_DIR = \"./out/innocence\"\n",
    "SEARCH_TERM = \"Songs of Innocence William Blake\"\n",
    "ARTIST_NAME = \"William Blake\""
   ]
  },
  {
   "cell_type": "markdown",
   "metadata": {},
   "source": [
    "## Download some images to work with\n",
    "\n",
    "Create a sample data set to work with"
   ]
  },
  {
   "cell_type": "code",
   "execution_count": 3,
   "metadata": {},
   "outputs": [
    {
     "name": "stdout",
     "output_type": "stream",
     "text": [
      "Search found 54 potential matches\n",
      "Downloaded 0 images\n"
     ]
    }
   ],
   "source": [
    "# :: ignore-cell ::\n",
    "\n",
    "fetch_works(\n",
    "    artist_exact_name=ARTIST_NAME,\n",
    "    search_term=SEARCH_TERM,\n",
    "    image_dir=IMAGE_DIR,\n",
    "    limit=100\n",
    ")"
   ]
  },
  {
   "cell_type": "markdown",
   "metadata": {},
   "source": [
    "## Process all the images"
   ]
  },
  {
   "cell_type": "code",
   "execution_count": 4,
   "metadata": {},
   "outputs": [],
   "source": [
    "def process_all_images():\n",
    "    images = glob(os.path.join(IMAGE_DIR, \"*.jpg\"))\n",
    "    \n",
    "    for image in images:\n",
    "        process_image(image, save_to_dir=OUT_DIR, scale=0.25)"
   ]
  },
  {
   "cell_type": "code",
   "execution_count": 5,
   "metadata": {},
   "outputs": [
    {
     "name": "stdout",
     "output_type": "stream",
     "text": [
      "Skipping image: ./images/innocence/348040-DP816699.jpg\n",
      "Skipping image: ./images/innocence/348006-DP816701.jpg\n",
      "Skipping image: ./images/innocence/347931-DP816663.jpg\n",
      "Skipping image: ./images/innocence/347989-DP816702.jpg\n",
      "Skipping image: ./images/innocence/347930-DP816662.jpg\n",
      "Skipping image: ./images/innocence/347973-DP816680.jpg\n",
      "Skipping image: ./images/innocence/348004-DP816695.jpg\n",
      "Skipping image: ./images/innocence/347962-DP816674.jpg\n",
      "Skipping image: ./images/innocence/347955-DP816670.jpg\n",
      "Skipping image: ./images/innocence/347888-DP816575.jpg\n",
      "Skipping image: ./images/innocence/347928-DP816660.jpg\n",
      "Skipping image: ./images/innocence/347980-DP816691.jpg\n",
      "Skipping image: ./images/innocence/347902-DP816578.jpg\n",
      "Skipping image: ./images/innocence/347987-DP816692.jpg\n",
      "Skipping image: ./images/innocence/347968-DP816677.jpg\n",
      "Skipping image: ./images/innocence/347904-DP816580.jpg\n",
      "Skipping image: ./images/innocence/347929-DP816661.jpg\n",
      "Skipping image: ./images/innocence/347938-DP816669.jpg\n",
      "Skipping image: ./images/innocence/347959-DP816672.jpg\n",
      "Skipping image: ./images/innocence/347908-DP816652.jpg\n",
      "Skipping image: ./images/innocence/347901-DP816577.jpg\n",
      "Skipping image: ./images/innocence/347889-DP816576.jpg\n",
      "Skipping image: ./images/innocence/347905-DP816581.jpg\n",
      "Skipping image: ./images/innocence/347983-DP816703.jpg\n",
      "Skipping image: ./images/innocence/348008-DP816697.jpg\n",
      "Skipping image: ./images/innocence/347903-DP816579.jpg\n",
      "Skipping image: ./images/innocence/347918-DP816653.jpg\n",
      "Skipping image: ./images/innocence/347969-DP816678.jpg\n",
      "Skipping image: ./images/innocence/347832-DP816574.jpg\n",
      "Skipping image: ./images/innocence/347906-DP816582.jpg\n",
      "Skipping image: ./images/innocence/347939-DP816671.jpg\n",
      "Skipping image: ./images/innocence/347997-DP816693.jpg\n",
      "Skipping image: ./images/innocence/348011-DP816698.jpg\n",
      "Skipping image: ./images/innocence/347924-DP816656.jpg\n",
      "Skipping image: ./images/innocence/347974-DP816704.jpg\n",
      "Skipping image: ./images/innocence/347933-DP816665.jpg\n",
      "Skipping image: ./images/innocence/347926-DP816658.jpg\n",
      "Skipping image: ./images/innocence/347936-DP816668.jpg\n",
      "Skipping image: ./images/innocence/347961-DP816673.jpg\n",
      "Skipping image: ./images/innocence/347972-DP816675.jpg\n",
      "Skipping image: ./images/innocence/347923-DP816655.jpg\n",
      "Skipping image: ./images/innocence/347934-DP816666.jpg\n",
      "Skipping image: ./images/innocence/348001-DP816694.jpg\n",
      "Skipping image: ./images/innocence/347977-DP816690.jpg\n",
      "Skipping image: ./images/innocence/347925-DP816657.jpg\n",
      "Skipping image: ./images/innocence/347966-DP816676.jpg\n",
      "Skipping image: ./images/innocence/348043-DP816700.jpg\n",
      "Skipping image: ./images/innocence/347927-DP816659.jpg\n",
      "Skipping image: ./images/innocence/347971-DP816679.jpg\n",
      "Skipping image: ./images/innocence/348007-DP816696.jpg\n",
      "Skipping image: ./images/innocence/347932-DP816664.jpg\n",
      "Skipping image: ./images/innocence/347922-DP816654.jpg\n",
      "Skipping image: ./images/innocence/347907-DP816651.jpg\n",
      "Skipping image: ./images/innocence/347935-DP816667.jpg\n"
     ]
    }
   ],
   "source": [
    "# :: ignore-cell ::\n",
    "process_all_images()"
   ]
  }
 ],
 "metadata": {
  "kernelspec": {
   "display_name": "Python 3",
   "language": "python",
   "name": "python3"
  },
  "language_info": {
   "codemirror_mode": {
    "name": "ipython",
    "version": 3
   },
   "file_extension": ".py",
   "mimetype": "text/x-python",
   "name": "python",
   "nbconvert_exporter": "python",
   "pygments_lexer": "ipython3",
   "version": "3.7.9"
  }
 },
 "nbformat": 4,
 "nbformat_minor": 4
}
