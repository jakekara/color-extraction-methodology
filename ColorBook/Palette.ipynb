{
 "cells": [
  {
   "cell_type": "markdown",
   "metadata": {},
   "source": [
    "# Palette\n",
    "\n",
    "A collection of colors and the count of each color in an image. "
   ]
  },
  {
   "cell_type": "code",
   "execution_count": 1,
   "metadata": {},
   "outputs": [],
   "source": [
    "import margo_loader\n",
    "from utils.Formatting import flattish, hex2rgb, rgb2hex, rgb2str"
   ]
  },
  {
   "cell_type": "code",
   "execution_count": 2,
   "metadata": {},
   "outputs": [],
   "source": [
    "class Palette:\n",
    "    \n",
    "    def __init__(self):\n",
    "        self.colors = {}\n",
    "        \n",
    "    def is_empty(self):\n",
    "        return len(self.colors.keys()) < 1\n",
    "    \n",
    "    @staticmethod\n",
    "    def test_color(r, g, b, a):\n",
    "        def is_component(x):\n",
    "            try:\n",
    "                x = int(x)\n",
    "                assert x >= 0\n",
    "                assert x < 256\n",
    "            except:\n",
    "                raise Exception(f\"Invalid rgba component value: {x} of type {type(x)}\")\n",
    "        \n",
    "        for c in [r, g, b, a]:\n",
    "            is_component(c)\n",
    "\n",
    "    def set_color_count(self, r, g, b, a, count):\n",
    "        Palette.test_color(r, g, b, a)\n",
    "        if (a < 1):\n",
    "            return\n",
    "        idx = rgb2str(r, g, b)\n",
    "        self.colors[idx] = count\n",
    "    \n",
    "    def add_color(self, r, g, b, a):\n",
    "        Palette.test_color(r, g, b, a)\n",
    "            \n",
    "        if (a < 1):\n",
    "            return\n",
    "        idx = rgb2str(r, g, b)\n",
    "        if idx not in self.colors:\n",
    "            self.colors[idx] = 0\n",
    "        self.colors[idx] += 1\n",
    "        \n",
    "    def to_dict(self):\n",
    "        return self.colors"
   ]
  },
  {
   "cell_type": "code",
   "execution_count": 3,
   "metadata": {},
   "outputs": [
    {
     "data": {
      "text/plain": [
       "{'rgb(0,0,0)': 4}"
      ]
     },
     "execution_count": 3,
     "metadata": {},
     "output_type": "execute_result"
    }
   ],
   "source": [
    "# :: ignore-cell ::\n",
    "\n",
    "p = Palette()\n",
    "p.add_color(0,0,0,255)\n",
    "p.add_color(0,0,0,255)\n",
    "p.add_color(0,0,0,255)\n",
    "p.add_color(0,0,0,255)\n",
    "\n",
    "assert p.to_dict()[\"rgb(0,0,0)\"] == 4\n",
    "\n",
    "p.to_dict()"
   ]
  },
  {
   "cell_type": "code",
   "execution_count": 4,
   "metadata": {},
   "outputs": [
    {
     "data": {
      "text/plain": [
       "{'rgb(0,0,0)': 150}"
      ]
     },
     "execution_count": 4,
     "metadata": {},
     "output_type": "execute_result"
    }
   ],
   "source": [
    "# :: ignore-cell :: \n",
    "p.set_color_count(0,0,0,255,150)\n",
    "\n",
    "assert p.to_dict()[\"rgb(0,0,0)\"] == 150\n",
    "\n",
    "p.to_dict()"
   ]
  },
  {
   "cell_type": "code",
   "execution_count": null,
   "metadata": {},
   "outputs": [],
   "source": []
  },
  {
   "cell_type": "code",
   "execution_count": null,
   "metadata": {},
   "outputs": [],
   "source": []
  }
 ],
 "metadata": {
  "kernelspec": {
   "display_name": "Python 3",
   "language": "python",
   "name": "python3"
  },
  "language_info": {
   "codemirror_mode": {
    "name": "ipython",
    "version": 3
   },
   "file_extension": ".py",
   "mimetype": "text/x-python",
   "name": "python",
   "nbconvert_exporter": "python",
   "pygments_lexer": "ipython3",
   "version": "3.7.9"
  }
 },
 "nbformat": 4,
 "nbformat_minor": 4
}
